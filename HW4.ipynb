{
 "cells": [
  {
   "cell_type": "markdown",
   "metadata": {},
   "source": [
    "**Get Data BODY and split words**"
   ]
  },
  {
   "cell_type": "code",
   "execution_count": 1,
   "metadata": {},
   "outputs": [
    {
     "name": "stdout",
     "output_type": "stream",
     "text": [
      "925 News Articles(N)\n",
      "['Showers continued throughout the week in the Bahia cocoa zone, alleviating the drought since early January and improving prospects for the coming temporao, although normal humidity levels have not been restored, Comissaria Smith said in its weekly review. The dry period means the temporao will be late this year. Arrivals for the week ended February 22 were 155,221 bags of 60 kilos making a cumulative total for the season of 5.93 mln against 5.81 at the same stage last year. Again it seems that cocoa delivered earlier on consignment was included in the arrivals figures. Comissaria Smith said there is still some doubt as to how much old crop cocoa is still available as harvesting has practically come to an end. With total Bahia crop estimates around 6.4 mln bags and sales standing at almost 6.2 mln there are a few hundred thousand bags still in the hands of farmers, middlemen, exporters and processors. There are doubts as to how much of this cocoa would be fit for export as shippers are now experiencing dificulties in obtaining +Bahia superior+ certificates. In view of the lower quality over recent weeks farmers have sold a good part of their cocoa held on consignment. Comissaria Smith said spot bean prices rose to 340 to 350 cruzados per arroba of 15 kilos. Bean shippers were reluctant to offer nearby shipment and only limited sales were booked for March shipment at 1,750 to 1,780 dlrs per tonne to ports to be named. New crop sales were also light and all to open ports with June/July going at 1,850 and 1,880 dlrs and at 35 and 45 dlrs under New York july, Aug/Sept at 1,870, 1,875 and 1,880 dlrs per tonne FOB. Routine sales of butter were made. March/April sold at 4,340, 4,345 and 4,350 dlrs. April/May butter went at 2.27 times New York May, June/July at 4,400 and 4,415 dlrs, Aug/Sept at 4,351 to 4,450 dlrs and at 2.27 and 2.28 times New York Sept and Oct/Dec at 4,480 dlrs and 2.27 times New York Dec, Comissaria Smith said. Destinations were the U.S., Covertible currency areas, Uruguay and open ports. Cake sales were registered at 785 to 995 dlrs for March/April, 785 dlrs for May, 753 dlrs for Aug and 0.39 times New York Dec for Oct/Dec. Buyers were the U.S., Argentina, Uruguay and convertible currency areas. Liquor sales were limited with March/April selling at 2,325 and 2,380 dlrs, June/July at 2,375 dlrs and at 1.25 times New York July, Aug/Sept at 2,400 dlrs and at 1.25 times New York Sept and Oct/Dec at 1.25 times New York Dec, Comissaria Smith said. Total Bahia sales are currently estimated at 6.13 mln bags against the 1986/87 crop and 1.06 mln bags against the 1987/88 crop. Final figures for the period to February 28 are expected to be published by the Brazilian Cocoa Trade Commission after carnival which ends midday on February 27. Reuter &#3;']\n"
     ]
    }
   ],
   "source": [
    "import re\n",
    "\n",
    "data = sc.wholeTextFiles('data/reut2-000*')\n",
    "news_articles = data.map(lambda x:x[1]).flatMap(lambda x:x.split('<BODY>')[1:]).map(lambda x:x.split('</BODY>')[0])\\\n",
    "                   .map(lambda x:re.sub(' +', ' ', x.replace('\\n', ' ')))\n",
    "\n",
    "print(news_articles.count(), 'News Articles(N)')\n",
    "print(news_articles.take(1))"
   ]
  },
  {
   "cell_type": "markdown",
   "metadata": {},
   "source": [
    "**(1) Given the Reuters-21578 dataset, please calculate the term frequencies, and output the representation of the document contents as a term-document count matrix.**  \n",
    "**Output Format  \n",
    "term-document matrix: A MxN matrix: with rows as term frequencies and columns as documents (N=21,578)**"
   ]
  },
  {
   "cell_type": "code",
   "execution_count": 2,
   "metadata": {},
   "outputs": [
    {
     "name": "stdout",
     "output_type": "stream",
     "text": [
      "17609 Distinct Words(M)\n",
      "['Showers', 'continued', 'throughout', 'the', 'week', 'in', 'Bahia', 'cocoa', 'zone,', 'alleviating']\n"
     ]
    }
   ],
   "source": [
    "distinct_words = news_articles.flatMap(lambda x:x.split(' ')).distinct()\n",
    "\n",
    "print(distinct_words.count(), 'Distinct Words(M)')\n",
    "print(distinct_words.take(10))"
   ]
  },
  {
   "cell_type": "code",
   "execution_count": 3,
   "metadata": {},
   "outputs": [
    {
     "name": "stdout",
     "output_type": "stream",
     "text": [
      "[17, 2, 4, 28, 1, 0, 3, 1, 2, 12, 0, 9, 0, 0, 6, 28, 2, 14, 7, 8, 1, 0, 6, 0, 1, 16, 0, 40, 7, 5, 2, 3, 1, 0, 0, 0, 4, 2, 0, 0, 7, 5, 12, 9, 14, 1, 2, 0, 5, 0, 0, 26, 5, 12, 4, 2, 6, 10, 11, 4, 7, 2, 0, 0, 0, 2, 8, 4, 0, 1, 3, 1, 3, 35, 4, 8, 0, 2, 5, 0, 0, 0, 6, 0, 6, 2, 0, 3, 1, 0, 2, 3, 2, 1, 19, 0, 24, 31, 3, 1, 4, 1, 5, 1, 1, 1, 1, 3, 6, 3, 6, 8, 3, 0, 4, 3, 7, 0, 1, 4, 21, 12, 0, 0, 0, 4, 0, 0, 17, 7, 0, 3, 2, 4, 3, 0, 0, 4, 1, 3, 4, 6, 3, 4, 0, 4, 3, 0, 0, 0, 0, 0, 1, 0, 0, 8, 0, 2, 12, 8, 38, 33, 24, 20, 12, 2, 0, 2, 0, 0, 0, 4, 12, 3, 23, 7, 1, 15, 0, 5, 1, 3, 23, 0, 0, 38, 0, 17, 5, 6, 8, 37, 0, 8, 2, 8, 8, 3, 6, 12, 9, 9, 4, 5, 28, 6, 24, 7, 17, 6, 4, 23, 5, 19, 0, 18, 14, 15, 29, 21, 6, 23, 5, 5, 3, 5, 7, 15, 16, 26, 5, 5, 6, 7, 2, 5, 1, 16, 11, 7, 3, 7, 5, 15, 8, 10, 6, 7, 0, 16, 12, 4, 1, 17, 7, 14, 23, 1, 31, 8, 5, 9, 10, 7, 7, 2, 3, 20, 4, 4, 0, 6, 6, 3, 20, 2, 11, 0, 10, 0, 30, 8, 7, 11, 13, 4, 33, 10, 7, 32, 2, 3, 4, 4, 26, 12, 5, 27, 2, 5, 13, 3, 6, 4, 5, 15, 3, 2, 10, 11, 0, 2, 4, 21, 2, 6, 6, 18, 37, 5, 30, 0, 8, 8, 12, 23, 5, 5, 27, 4, 7, 4, 10, 7, 21, 5, 7, 16, 5, 2, 24, 6, 22, 2, 4, 24, 10, 4, 21, 6, 28, 0, 4, 8, 1, 7, 0, 5, 4, 4, 28, 5, 6, 45, 3, 0, 4, 11, 4, 19, 1, 2, 13, 0, 5, 5, 3, 1, 0, 0, 0, 5, 2, 0, 6, 1, 2, 3, 0, 5, 38, 0, 3, 0, 0, 5, 7, 1, 0, 7, 9, 21, 8, 8, 3, 7, 0, 0, 9, 4, 8, 4, 4, 3, 6, 0, 4, 3, 2, 1, 9, 0, 5, 15, 2, 0, 5, 4, 0, 3, 0, 0, 1, 0, 0, 6, 2, 4, 7, 3, 3, 2, 5, 3, 1, 3, 1, 0, 0, 3, 2, 4, 0, 7, 0, 3, 6, 1, 0, 3, 26, 2, 3, 2, 4, 8, 11, 7, 8, 5, 0, 3, 0, 0, 3, 0, 0, 0, 6, 5, 0, 11, 1, 0, 3, 4, 4, 19, 8, 1, 0, 0, 4, 0, 4, 0, 0, 0, 0, 3, 0, 0, 30, 0, 1, 5, 8, 8, 0, 7, 0, 9, 5, 5, 1, 1, 0, 1, 3, 0, 1, 0, 0, 4, 8, 28, 6, 5, 4, 4, 6, 0, 12, 0, 0, 3, 0, 2, 7, 0, 0, 0, 1, 4, 3, 1, 3, 0, 6, 0, 1, 1, 4, 0, 0, 3, 0, 13, 0, 3, 0, 6, 0, 4, 0, 0, 1, 0, 5, 2, 0, 0, 0, 2, 4, 1, 0, 0, 5, 6, 0, 4, 14, 7, 7, 4, 3, 5, 27, 30, 33, 0, 4, 0, 4, 0, 1, 0, 3, 0, 0, 0, 6, 4, 11, 6, 11, 2, 9, 10, 1, 6, 25, 3, 0, 2, 1, 1, 11, 4, 0, 13, 9, 11, 0, 23, 3, 1, 0, 8, 1, 6, 8, 11, 0, 1, 9, 0, 0, 0, 0, 0, 17, 8, 0, 0, 0, 0, 0, 1, 17, 5, 5, 0, 0, 4, 5, 3, 27, 0, 3, 16, 26, 1, 4, 5, 0, 7, 4, 3, 4, 3, 1, 2, 19, 0, 5, 5, 0, 2, 3, 4, 2, 0, 16, 4, 13, 8, 6, 1, 6, 2, 32, 12, 2, 0, 7, 2, 4, 4, 0, 4, 0, 14, 4, 3, 2, 0, 4, 4, 0, 13, 5, 6, 4, 2, 0, 0, 10, 0, 1, 0, 4, 0, 0, 1, 0, 3, 6, 2, 5, 4, 5, 3, 3, 1, 3, 11, 4, 4, 6, 8, 4, 7, 1, 3, 4, 4, 3, 0, 2, 2, 1, 4, 0, 3, 2, 0, 3, 5, 9, 10, 3, 3, 3, 4, 12, 0, 23, 0, 17, 2, 15, 4, 1, 2, 10, 7, 5, 6, 38, 4, 3, 0, 3, 0, 1, 2, 4, 7, 17, 41, 6, 12, 4, 2, 0, 11, 0, 21, 5, 2, 1, 0, 9, 4, 7, 1, 3, 12, 13, 31, 24, 2, 6, 16, 14, 3, 7, 0, 3, 1, 0, 11, 21, 0, 17, 7, 7, 13, 1, 3, 3, 33, 0, 8, 16, 3, 0, 0, 6, 5, 1, 11, 2, 8, 4, 23, 5, 20, 4, 15, 6, 0, 11, 18, 1, 4, 29, 17, 5, 2, 2, 2, 0, 1, 6, 2, 5, 16, 6, 5, 5, 2, 17, 2, 0, 1, 6, 2, 2, 23, 12, 13, 3, 6, 18, 9, 11, 12, 21, 4, 1, 4, 6, 41, 10, 10, 0, 17, 7, 10, 10, 2, 0, 13, 3, 13, 5, 13, 18, 3, 0, 4, 2, 3, 7, 7, 0, 3, 2, 4, 0, 4, 7]\n"
     ]
    }
   ],
   "source": [
    "news_articles_list = news_articles.map(lambda x:x.split(' ')).collect()\n",
    "term_document_count_matrix = distinct_words.map(lambda x:[article.count(x) for article in news_articles_list])\n",
    "\n",
    "print(term_document_count_matrix.take(10)[3])"
   ]
  },
  {
   "cell_type": "code",
   "execution_count": 4,
   "metadata": {},
   "outputs": [],
   "source": [
    "term_document_count_matrix.coalesce(1).saveAsTextFile('tmp')"
   ]
  },
  {
   "cell_type": "code",
   "execution_count": 5,
   "metadata": {},
   "outputs": [],
   "source": [
    "!mv tmp/part-00000 result/term_document_count_matrix.txt\n",
    "!rm -rf tmp"
   ]
  },
  {
   "cell_type": "markdown",
   "metadata": {},
   "source": [
    "**(2) Implement matrix multiplication by MapReduce. Your program should be able to output the result in appropriate dimensions.**  \n",
    "**Output Format  \n",
    "result of matrix multiplication: An MxR matrix: (MxN) * (NxR)**"
   ]
  },
  {
   "cell_type": "code",
   "execution_count": null,
   "metadata": {},
   "outputs": [],
   "source": []
  },
  {
   "cell_type": "markdown",
   "metadata": {},
   "source": [
    "**(3) Given the term-document matrix in (1), compute the SVD decomposition of the matrix using MapReduce. Output the resulting eigenvalues and eigenvectors.**  \n",
    "**Output Format  \n",
    "eigenpairs: Eigenvalues sorted in descending order, and their corresponding eigenvectors**"
   ]
  },
  {
   "cell_type": "code",
   "execution_count": null,
   "metadata": {},
   "outputs": [],
   "source": []
  }
 ],
 "metadata": {
  "kernelspec": {
   "display_name": "Python 3",
   "language": "python",
   "name": "python3"
  },
  "language_info": {
   "codemirror_mode": {
    "name": "ipython",
    "version": 3
   },
   "file_extension": ".py",
   "mimetype": "text/x-python",
   "name": "python",
   "nbconvert_exporter": "python",
   "pygments_lexer": "ipython3",
   "version": "3.6.5"
  }
 },
 "nbformat": 4,
 "nbformat_minor": 2
}
