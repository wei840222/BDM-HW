{
 "cells": [
  {
   "cell_type": "markdown",
   "metadata": {},
   "source": [
    "**Get Data BODY and split words**"
   ]
  },
  {
   "cell_type": "code",
   "execution_count": 1,
   "metadata": {},
   "outputs": [],
   "source": [
    "import re\n",
    "\n",
    "def delTrashChar(string, trash):\n",
    "    for t in trash:\n",
    "        string = string.replace(t, ' ')\n",
    "    return re.sub(' +', ' ', string)"
   ]
  },
  {
   "cell_type": "code",
   "execution_count": 2,
   "metadata": {},
   "outputs": [
    {
     "name": "stdout",
     "output_type": "stream",
     "text": [
      "19043 News Articles(N)\n"
     ]
    }
   ],
   "source": [
    "data = sc.wholeTextFiles('data/reut2-*')\n",
    "news_articles = data.map(lambda x:x[1]).flatMap(lambda x:x.split('<BODY>')[1:]).map(lambda x:x.split('</BODY>')[0])\\\n",
    "                    .map(lambda x:delTrashChar(x, '~!@#$%^&*()_+`-=/\\\\,.<>\\'\\\";:{}[]\\n\\t|'))\n",
    "\n",
    "N = news_articles.count()\n",
    "print(N, 'News Articles(N)')"
   ]
  },
  {
   "cell_type": "markdown",
   "metadata": {},
   "source": [
    "**(1) Given the Reuters-21578 dataset, please calculate the term frequencies, and output the representation of the document contents as a term-document count matrix.**  \n",
    "**Output Format  \n",
    "term-document matrix: A MxN matrix: with rows as term frequencies and columns as documents (N=21,578)**"
   ]
  },
  {
   "cell_type": "code",
   "execution_count": 3,
   "metadata": {},
   "outputs": [
    {
     "name": "stdout",
     "output_type": "stream",
     "text": [
      "48447 Distinct Words(M)\n"
     ]
    }
   ],
   "source": [
    "distinct_words = news_articles.flatMap(lambda x:x.split(' ')).distinct()\n",
    "\n",
    "M = distinct_words.count()\n",
    "print(M, 'Distinct Words(M)')"
   ]
  },
  {
   "cell_type": "code",
   "execution_count": 4,
   "metadata": {},
   "outputs": [],
   "source": [
    "from pyspark.mllib.linalg.distributed import RowMatrix\n",
    "\n",
    "news_articles_list = news_articles.map(lambda x:x.split(' ')).collect()\n",
    "term_document_count_matrix = RowMatrix(distinct_words.map(lambda x:[article.count(x) for article in news_articles_list]))"
   ]
  },
  {
   "cell_type": "code",
   "execution_count": 5,
   "metadata": {},
   "outputs": [],
   "source": [
    "term_document_count_matrix.rows.coalesce(1).saveAsTextFile('tmp')\n",
    "\n",
    "!mv tmp/part-00000 result/term_document_count_matrix.txt\n",
    "!rm -rf tmp"
   ]
  },
  {
   "cell_type": "markdown",
   "metadata": {},
   "source": [
    "**(2) Implement matrix multiplication by MapReduce. Your program should be able to output the result in appropriate dimensions.**  \n",
    "**Output Format  \n",
    "result of matrix multiplication: An MxR matrix: (MxN) * (NxR)**"
   ]
  },
  {
   "cell_type": "markdown",
   "metadata": {},
   "source": [
    "**(3) Given the term-document matrix in (1), compute the SVD decomposition of the matrix using MapReduce. Output the resulting eigenvalues and eigenvectors.**  \n",
    "**Output Format  \n",
    "eigenpairs: Eigenvalues sorted in descending order, and their corresponding eigenvectors**"
   ]
  },
  {
   "cell_type": "markdown",
   "metadata": {},
   "source": [
    ">**I do the Q2 Q3 at same time, I compute top-10 eigenvalues and use these eigenvectors to multiply with term-document count matrix**"
   ]
  },
  {
   "cell_type": "code",
   "execution_count": 6,
   "metadata": {},
   "outputs": [],
   "source": [
    "R = 10"
   ]
  },
  {
   "cell_type": "code",
   "execution_count": 7,
   "metadata": {},
   "outputs": [],
   "source": [
    "svd = term_document_count_matrix.computeSVD(R)"
   ]
  },
  {
   "cell_type": "code",
   "execution_count": 8,
   "metadata": {},
   "outputs": [],
   "source": [
    "matrixMultiply = term_document_count_matrix.multiply(svd.V)"
   ]
  },
  {
   "cell_type": "code",
   "execution_count": 9,
   "metadata": {},
   "outputs": [],
   "source": [
    "matrixMultiply.rows.coalesce(1).saveAsTextFile('tmp')\n",
    "\n",
    "!mv tmp/part-00000 result/matrixMultiply.txt\n",
    "!rm -rf tmp"
   ]
  },
  {
   "cell_type": "code",
   "execution_count": 10,
   "metadata": {},
   "outputs": [],
   "source": [
    "V = svd.V.toArray()\n",
    "s = svd.s.toArray()\n",
    "with open('result/svd.txt', 'w') as result:\n",
    "    for i in range(R):\n",
    "        result.write(str(s[i]) + '\\n' + str(V[i]) + '\\n\\n')"
   ]
  }
 ],
 "metadata": {
  "kernelspec": {
   "display_name": "Python 3",
   "language": "python",
   "name": "python3"
  },
  "language_info": {
   "codemirror_mode": {
    "name": "ipython",
    "version": 3
   },
   "file_extension": ".py",
   "mimetype": "text/x-python",
   "name": "python",
   "nbconvert_exporter": "python",
   "pygments_lexer": "ipython3",
   "version": "3.6.4"
  }
 },
 "nbformat": 4,
 "nbformat_minor": 2
}
