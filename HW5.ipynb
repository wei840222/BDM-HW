{
 "cells": [
  {
   "cell_type": "markdown",
   "metadata": {},
   "source": [
    "**Load data**"
   ]
  },
  {
   "cell_type": "code",
   "execution_count": 1,
   "metadata": {},
   "outputs": [],
   "source": [
    "data = sc.textFile('data/web-Google.txt').map(lambda x:x.replace('# ', '').split('\\t')).filter(lambda x:len(x) > 1)\n",
    "header = data.first()"
   ]
  },
  {
   "cell_type": "code",
   "execution_count": 2,
   "metadata": {},
   "outputs": [
    {
     "data": {
      "text/plain": [
       "[['FromNodeId', 'ToNodeId'],\n",
       " ['0', '11342'],\n",
       " ['0', '824020'],\n",
       " ['0', '867923'],\n",
       " ['0', '891835'],\n",
       " ['11342', '0'],\n",
       " ['11342', '27469'],\n",
       " ['11342', '38716'],\n",
       " ['11342', '309564'],\n",
       " ['11342', '322178']]"
      ]
     },
     "execution_count": 2,
     "metadata": {},
     "output_type": "execute_result"
    }
   ],
   "source": [
    "data.take(10)"
   ]
  },
  {
   "cell_type": "code",
   "execution_count": 3,
   "metadata": {},
   "outputs": [
    {
     "name": "stdout",
     "output_type": "stream",
     "text": [
      "+----------+--------+\n",
      "|FromNodeId|ToNodeId|\n",
      "+----------+--------+\n",
      "|         0|   11342|\n",
      "|         0|  824020|\n",
      "|         0|  867923|\n",
      "|         0|  891835|\n",
      "|     11342|       0|\n",
      "|     11342|   27469|\n",
      "|     11342|   38716|\n",
      "|     11342|  309564|\n",
      "|     11342|  322178|\n",
      "|     11342|  387543|\n",
      "|     11342|  427436|\n",
      "|     11342|  538214|\n",
      "|     11342|  638706|\n",
      "|     11342|  645018|\n",
      "|     11342|  835220|\n",
      "|     11342|  856657|\n",
      "|     11342|  867923|\n",
      "|     11342|  891835|\n",
      "|    824020|       0|\n",
      "|    824020|   91807|\n",
      "+----------+--------+\n",
      "only showing top 20 rows\n",
      "\n"
     ]
    }
   ],
   "source": [
    "data = data.filter(lambda x:x != header).map(lambda x:[int(x[0]), int(x[1])]).cache()\n",
    "df = data.toDF(header)\n",
    "df.show()"
   ]
  },
  {
   "attachments": {},
   "cell_type": "markdown",
   "metadata": {},
   "source": [
    "**(1) Given the Google web graph dataset, please output the list of web pages with the number of outlinks, sorted in descending order of the out-degrees.**"
   ]
  },
  {
   "cell_type": "code",
   "execution_count": 4,
   "metadata": {},
   "outputs": [
    {
     "name": "stdout",
     "output_type": "stream",
     "text": [
      "+----------+-----+\n",
      "|FromNodeId|count|\n",
      "+----------+-----+\n",
      "|    506742|  456|\n",
      "|    305229|  372|\n",
      "|    203748|  372|\n",
      "|    768091|  330|\n",
      "|    808643|  277|\n",
      "|    412410|  268|\n",
      "|    600479|  265|\n",
      "|    376428|  258|\n",
      "|    156950|  257|\n",
      "|    885728|  256|\n",
      "|    667584|  253|\n",
      "|    685695|  248|\n",
      "|    282140|  247|\n",
      "|    598188|  245|\n",
      "|    579314|  244|\n",
      "|    411593|  231|\n",
      "|    321091|  229|\n",
      "|    838278|  225|\n",
      "|    302733|  216|\n",
      "|    915273|  213|\n",
      "+----------+-----+\n",
      "only showing top 20 rows\n",
      "\n"
     ]
    }
   ],
   "source": [
    "df_out_degrees = df.groupBy('FromNodeId').count().orderBy('count', ascending=False).cache()\n",
    "df_out_degrees.show()"
   ]
  },
  {
   "attachments": {},
   "cell_type": "markdown",
   "metadata": {},
   "source": [
    "**(2) Please output the inlink distribution of the top linked web pages, sorted in descending order of the in-degrees.**"
   ]
  },
  {
   "cell_type": "code",
   "execution_count": 5,
   "metadata": {},
   "outputs": [
    {
     "name": "stdout",
     "output_type": "stream",
     "text": [
      "+--------+-----+\n",
      "|ToNodeId|count|\n",
      "+--------+-----+\n",
      "|  537039| 6326|\n",
      "|  597621| 5354|\n",
      "|  504140| 5271|\n",
      "|  751384| 5182|\n",
      "|   32163| 5097|\n",
      "|  885605| 4847|\n",
      "|  163075| 4731|\n",
      "|  819223| 4620|\n",
      "|  605856| 4550|\n",
      "|  828963| 4484|\n",
      "|  551829| 4220|\n",
      "|   41909| 4219|\n",
      "|  558791| 4206|\n",
      "|  459074| 4187|\n",
      "|  407610| 4180|\n",
      "|  213432| 4084|\n",
      "|  765334| 4015|\n",
      "|  384666| 4010|\n",
      "|  173976| 3988|\n",
      "|  687325| 3956|\n",
      "+--------+-----+\n",
      "only showing top 20 rows\n",
      "\n"
     ]
    }
   ],
   "source": [
    "df_in_degrees = df.groupBy('ToNodeId').count().orderBy('count', ascending=False).cache()\n",
    "df_in_degrees.show()"
   ]
  },
  {
   "attachments": {},
   "cell_type": "markdown",
   "metadata": {},
   "source": [
    "**(3) Design an algorithm that maintains the connectivity of two nodes in an efficient way. Given a node v, please output the list of nodes that v points to, and the list of nodes that points to v.**"
   ]
  },
  {
   "cell_type": "code",
   "execution_count": 6,
   "metadata": {},
   "outputs": [],
   "source": [
    "v = 0"
   ]
  },
  {
   "cell_type": "markdown",
   "metadata": {},
   "source": [
    "v points to"
   ]
  },
  {
   "cell_type": "code",
   "execution_count": 7,
   "metadata": {},
   "outputs": [
    {
     "data": {
      "text/plain": [
       "[11342, 824020, 867923, 891835]"
      ]
     },
     "execution_count": 7,
     "metadata": {},
     "output_type": "execute_result"
    }
   ],
   "source": [
    "data.filter(lambda x:x[0] == v).map(lambda x:[x[0], [x[1]]]).reduceByKey(lambda x, y:x + y).collect()[0][1]"
   ]
  },
  {
   "cell_type": "markdown",
   "metadata": {},
   "source": [
    "points to v"
   ]
  },
  {
   "cell_type": "code",
   "execution_count": 8,
   "metadata": {},
   "outputs": [
    {
     "data": {
      "text/plain": [
       "[11342,\n",
       " 824020,\n",
       " 867923,\n",
       " 891835,\n",
       " 635343,\n",
       " 600594,\n",
       " 366080,\n",
       " 500627,\n",
       " 835220,\n",
       " 543999,\n",
       " 830675,\n",
       " 95656,\n",
       " 38716,\n",
       " 322178,\n",
       " 387543,\n",
       " 638706,\n",
       " 645018,\n",
       " 856657,\n",
       " 11927,\n",
       " 180285,\n",
       " 395856,\n",
       " 450550,\n",
       " 824375,\n",
       " 143557,\n",
       " 15901,\n",
       " 108113,\n",
       " 136131,\n",
       " 320258,\n",
       " 335113,\n",
       " 512812,\n",
       " 522510,\n",
       " 854209,\n",
       " 857934,\n",
       " 859247,\n",
       " 857527,\n",
       " 828241,\n",
       " 29546,\n",
       " 535748,\n",
       " 30281,\n",
       " 468354,\n",
       " 62929,\n",
       " 31300,\n",
       " 553829,\n",
       " 136593,\n",
       " 414038,\n",
       " 428822,\n",
       " 523684,\n",
       " 684417,\n",
       " 760842,\n",
       " 765654,\n",
       " 795148,\n",
       " 815602,\n",
       " 72432,\n",
       " 96460,\n",
       " 160114,\n",
       " 193375,\n",
       " 293748,\n",
       " 365423,\n",
       " 403327,\n",
       " 491156,\n",
       " 548921,\n",
       " 609210,\n",
       " 635163,\n",
       " 636635,\n",
       " 662982,\n",
       " 692491,\n",
       " 721453,\n",
       " 728417,\n",
       " 867959,\n",
       " 43929,\n",
       " 115472,\n",
       " 494671,\n",
       " 46274,\n",
       " 877381,\n",
       " 48192,\n",
       " 50822,\n",
       " 554441,\n",
       " 56910,\n",
       " 68314,\n",
       " 71878,\n",
       " 283476,\n",
       " 701455,\n",
       " 821092,\n",
       " 73631,\n",
       " 483644,\n",
       " 644912,\n",
       " 82205,\n",
       " 86094,\n",
       " 172576,\n",
       " 628457,\n",
       " 725962,\n",
       " 780663,\n",
       " 898319,\n",
       " 89773,\n",
       " 90128,\n",
       " 215810,\n",
       " 91807,\n",
       " 695578,\n",
       " 102341,\n",
       " 463078,\n",
       " 221809,\n",
       " 232480,\n",
       " 672426,\n",
       " 130954,\n",
       " 115267,\n",
       " 803972,\n",
       " 120076,\n",
       " 500542,\n",
       " 197743,\n",
       " 612032,\n",
       " 764527,\n",
       " 479137,\n",
       " 321961,\n",
       " 578649,\n",
       " 846213,\n",
       " 415030,\n",
       " 140656,\n",
       " 149447,\n",
       " 229705,\n",
       " 152996,\n",
       " 153741,\n",
       " 164521,\n",
       " 171857,\n",
       " 175010,\n",
       " 177218,\n",
       " 247548,\n",
       " 203547,\n",
       " 254529,\n",
       " 729080,\n",
       " 677007,\n",
       " 433516,\n",
       " 235849,\n",
       " 238717,\n",
       " 240416,\n",
       " 243975,\n",
       " 247439,\n",
       " 253223,\n",
       " 255023,\n",
       " 852419,\n",
       " 541385,\n",
       " 281963,\n",
       " 487182,\n",
       " 563600,\n",
       " 284059,\n",
       " 284174,\n",
       " 287468,\n",
       " 637361,\n",
       " 302284,\n",
       " 701087,\n",
       " 740065,\n",
       " 784413,\n",
       " 914941,\n",
       " 387341,\n",
       " 319393,\n",
       " 319593,\n",
       " 754862,\n",
       " 331282,\n",
       " 358935,\n",
       " 363129,\n",
       " 430049,\n",
       " 848683,\n",
       " 363712,\n",
       " 464225,\n",
       " 560047,\n",
       " 600249,\n",
       " 781646,\n",
       " 385830,\n",
       " 400909,\n",
       " 408222,\n",
       " 732803,\n",
       " 842900,\n",
       " 426863,\n",
       " 434138,\n",
       " 442324,\n",
       " 844885,\n",
       " 542276,\n",
       " 451592,\n",
       " 453275,\n",
       " 453636,\n",
       " 456978,\n",
       " 466045,\n",
       " 881700,\n",
       " 471915,\n",
       " 699910,\n",
       " 479014,\n",
       " 480435,\n",
       " 687914,\n",
       " 520734,\n",
       " 884543,\n",
       " 543606,\n",
       " 552209,\n",
       " 685926,\n",
       " 783408,\n",
       " 677789,\n",
       " 747971,\n",
       " 561337,\n",
       " 591577,\n",
       " 855011,\n",
       " 655101,\n",
       " 660210,\n",
       " 648346,\n",
       " 663429,\n",
       " 668427,\n",
       " 676560,\n",
       " 714886,\n",
       " 734490,\n",
       " 759371,\n",
       " 856353,\n",
       " 804858,\n",
       " 807267,\n",
       " 810019,\n",
       " 893714]"
      ]
     },
     "execution_count": 8,
     "metadata": {},
     "output_type": "execute_result"
    }
   ],
   "source": [
    "data.filter(lambda x:x[1] == v).map(lambda x:[x[1], [x[0]]]).reduceByKey(lambda x, y:x + y).collect()[0][1]"
   ]
  }
 ],
 "metadata": {
  "kernelspec": {
   "display_name": "Python 3",
   "language": "python",
   "name": "python3"
  },
  "language_info": {
   "codemirror_mode": {
    "name": "ipython",
    "version": 3
   },
   "file_extension": ".py",
   "mimetype": "text/x-python",
   "name": "python",
   "nbconvert_exporter": "python",
   "pygments_lexer": "ipython3",
   "version": "3.6.4"
  }
 },
 "nbformat": 4,
 "nbformat_minor": 2
}
