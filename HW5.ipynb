{
 "cells": [
  {
   "cell_type": "markdown",
   "metadata": {},
   "source": [
    "**Load data**"
   ]
  },
  {
   "cell_type": "code",
   "execution_count": 1,
   "metadata": {},
   "outputs": [],
   "source": [
    "data = sc.textFile('data/web-Google.txt').map(lambda x:x.replace('# ', '').split('\\t')).filter(lambda x:len(x) > 1)\n",
    "header = data.first()"
   ]
  },
  {
   "cell_type": "code",
   "execution_count": 2,
   "metadata": {},
   "outputs": [
    {
     "data": {
      "text/plain": [
       "[['FromNodeId', 'ToNodeId'],\n",
       " ['0', '11342'],\n",
       " ['0', '824020'],\n",
       " ['0', '867923'],\n",
       " ['0', '891835'],\n",
       " ['11342', '0'],\n",
       " ['11342', '27469'],\n",
       " ['11342', '38716'],\n",
       " ['11342', '309564'],\n",
       " ['11342', '322178']]"
      ]
     },
     "execution_count": 2,
     "metadata": {},
     "output_type": "execute_result"
    }
   ],
   "source": [
    "data.take(10)"
   ]
  },
  {
   "cell_type": "code",
   "execution_count": 3,
   "metadata": {},
   "outputs": [
    {
     "name": "stdout",
     "output_type": "stream",
     "text": [
      "+----------+--------+\n",
      "|FromNodeId|ToNodeId|\n",
      "+----------+--------+\n",
      "|         0|   11342|\n",
      "|         0|  824020|\n",
      "|         0|  867923|\n",
      "|         0|  891835|\n",
      "|     11342|       0|\n",
      "|     11342|   27469|\n",
      "|     11342|   38716|\n",
      "|     11342|  309564|\n",
      "|     11342|  322178|\n",
      "|     11342|  387543|\n",
      "|     11342|  427436|\n",
      "|     11342|  538214|\n",
      "|     11342|  638706|\n",
      "|     11342|  645018|\n",
      "|     11342|  835220|\n",
      "|     11342|  856657|\n",
      "|     11342|  867923|\n",
      "|     11342|  891835|\n",
      "|    824020|       0|\n",
      "|    824020|   91807|\n",
      "+----------+--------+\n",
      "only showing top 20 rows\n",
      "\n"
     ]
    }
   ],
   "source": [
    "df = data.filter(lambda x:x != header).toDF(header)\n",
    "df.show()"
   ]
  },
  {
   "attachments": {},
   "cell_type": "markdown",
   "metadata": {},
   "source": [
    "**(1) Given the Google web graph dataset, please output the list of web pages with the number of outlinks, sorted in descending order of the out-degrees.**"
   ]
  },
  {
   "cell_type": "code",
   "execution_count": 4,
   "metadata": {},
   "outputs": [
    {
     "name": "stdout",
     "output_type": "stream",
     "text": [
      "+----------+-----+\n",
      "|FromNodeId|count|\n",
      "+----------+-----+\n",
      "|    506742|  456|\n",
      "|    203748|  372|\n",
      "|    305229|  372|\n",
      "|    768091|  330|\n",
      "|    808643|  277|\n",
      "|    412410|  268|\n",
      "|    600479|  265|\n",
      "|    376428|  258|\n",
      "|    156950|  257|\n",
      "|    885728|  256|\n",
      "|    667584|  253|\n",
      "|    685695|  248|\n",
      "|    282140|  247|\n",
      "|    598188|  245|\n",
      "|    579314|  244|\n",
      "|    411593|  231|\n",
      "|    321091|  229|\n",
      "|    838278|  225|\n",
      "|    302733|  216|\n",
      "|    915273|  213|\n",
      "+----------+-----+\n",
      "only showing top 20 rows\n",
      "\n"
     ]
    }
   ],
   "source": [
    "df_out_degrees = df.groupBy('FromNodeId').count().orderBy('count', ascending=False).cache()\n",
    "df_out_degrees.show()"
   ]
  },
  {
   "attachments": {},
   "cell_type": "markdown",
   "metadata": {},
   "source": [
    "**(2) Please output the inlink distribution of the top linked web pages, sorted in descending order of the in-degrees.**"
   ]
  },
  {
   "cell_type": "code",
   "execution_count": 5,
   "metadata": {},
   "outputs": [
    {
     "name": "stdout",
     "output_type": "stream",
     "text": [
      "+--------+-----+\n",
      "|ToNodeId|count|\n",
      "+--------+-----+\n",
      "|  537039| 6326|\n",
      "|  597621| 5354|\n",
      "|  504140| 5271|\n",
      "|  751384| 5182|\n",
      "|   32163| 5097|\n",
      "|  885605| 4847|\n",
      "|  163075| 4731|\n",
      "|  819223| 4620|\n",
      "|  605856| 4550|\n",
      "|  828963| 4484|\n",
      "|  551829| 4220|\n",
      "|   41909| 4219|\n",
      "|  558791| 4206|\n",
      "|  459074| 4187|\n",
      "|  407610| 4180|\n",
      "|  213432| 4084|\n",
      "|  765334| 4015|\n",
      "|  384666| 4010|\n",
      "|  173976| 3988|\n",
      "|  687325| 3956|\n",
      "+--------+-----+\n",
      "only showing top 20 rows\n",
      "\n"
     ]
    }
   ],
   "source": [
    "df_in_degrees = df.groupBy('ToNodeId').count().orderBy('count', ascending=False).cache()\n",
    "df_in_degrees.show()"
   ]
  },
  {
   "attachments": {},
   "cell_type": "markdown",
   "metadata": {},
   "source": [
    "**(3) Design an algorithm that maintains the connectivity of two nodes in an efficient way. Given a node v, please output the list of nodes that v points to, and the list of nodes that points to v.**"
   ]
  },
  {
   "cell_type": "code",
   "execution_count": null,
   "metadata": {},
   "outputs": [],
   "source": []
  }
 ],
 "metadata": {
  "kernelspec": {
   "display_name": "Python 3",
   "language": "python",
   "name": "python3"
  },
  "language_info": {
   "codemirror_mode": {
    "name": "ipython",
    "version": 3
   },
   "file_extension": ".py",
   "mimetype": "text/x-python",
   "name": "python",
   "nbconvert_exporter": "python",
   "pygments_lexer": "ipython3",
   "version": "3.6.4"
  }
 },
 "nbformat": 4,
 "nbformat_minor": 2
}
